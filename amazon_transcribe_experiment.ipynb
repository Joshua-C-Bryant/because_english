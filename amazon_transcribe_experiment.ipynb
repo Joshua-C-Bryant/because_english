{
 "cells": [
  {
   "cell_type": "code",
   "execution_count": 1,
   "id": "900a4c3f",
   "metadata": {},
   "outputs": [],
   "source": [
    "import pandas as pd\n",
    "import numpy as np"
   ]
  },
  {
   "cell_type": "code",
   "execution_count": 2,
   "id": "3ad35f15",
   "metadata": {},
   "outputs": [],
   "source": [
    "sample = {\"jobName\":\"sample-transcription-job\",\"accountId\":\"953151817583\",\"results\":{\"transcripts\":[{\"transcript\":\"Machine learning is employed in a range of computing tasks where designing and programming explicit algorithms with good performance as difficult or infeasible. Example applications include email filtering, detection of network intruders and computer vision. Machine learning is closely related to computational statistics, which also focuses on predictions making through the use of computer. It has strong ties to mathematical optimization, which delivers methods, theory and application domains to the field.\"}],\"items\":[{\"start_time\":\"0.04\",\"end_time\":\"0.38\",\"alternatives\":[{\"confidence\":\"1.0\",\"content\":\"Machine\"}],\"type\":\"pronunciation\"},{\"start_time\":\"0.38\",\"end_time\":\"0.72\",\"alternatives\":[{\"confidence\":\"1.0\",\"content\":\"learning\"}],\"type\":\"pronunciation\"},{\"start_time\":\"0.72\",\"end_time\":\"0.86\",\"alternatives\":[{\"confidence\":\"1.0\",\"content\":\"is\"}],\"type\":\"pronunciation\"},{\"start_time\":\"0.86\",\"end_time\":\"1.26\",\"alternatives\":[{\"confidence\":\"1.0\",\"content\":\"employed\"}],\"type\":\"pronunciation\"},{\"start_time\":\"1.26\",\"end_time\":\"1.34\",\"alternatives\":[{\"confidence\":\"1.0\",\"content\":\"in\"}],\"type\":\"pronunciation\"},{\"start_time\":\"1.34\",\"end_time\":\"1.4\",\"alternatives\":[{\"confidence\":\"1.0\",\"content\":\"a\"}],\"type\":\"pronunciation\"},{\"start_time\":\"1.4\",\"end_time\":\"1.66\",\"alternatives\":[{\"confidence\":\"1.0\",\"content\":\"range\"}],\"type\":\"pronunciation\"},{\"start_time\":\"1.66\",\"end_time\":\"1.77\",\"alternatives\":[{\"confidence\":\"1.0\",\"content\":\"of\"}],\"type\":\"pronunciation\"},{\"start_time\":\"1.77\",\"end_time\":\"2.25\",\"alternatives\":[{\"confidence\":\"1.0\",\"content\":\"computing\"}],\"type\":\"pronunciation\"},{\"start_time\":\"2.25\",\"end_time\":\"2.75\",\"alternatives\":[{\"confidence\":\"1.0\",\"content\":\"tasks\"}],\"type\":\"pronunciation\"},{\"start_time\":\"2.76\",\"end_time\":\"2.97\",\"alternatives\":[{\"confidence\":\"0.844\",\"content\":\"where\"}],\"type\":\"pronunciation\"},{\"start_time\":\"2.97\",\"end_time\":\"3.42\",\"alternatives\":[{\"confidence\":\"1.0\",\"content\":\"designing\"}],\"type\":\"pronunciation\"},{\"start_time\":\"3.42\",\"end_time\":\"3.51\",\"alternatives\":[{\"confidence\":\"0.821\",\"content\":\"and\"}],\"type\":\"pronunciation\"},{\"start_time\":\"3.51\",\"end_time\":\"3.9\",\"alternatives\":[{\"confidence\":\"0.806\",\"content\":\"programming\"}],\"type\":\"pronunciation\"},{\"start_time\":\"3.9\",\"end_time\":\"4.41\",\"alternatives\":[{\"confidence\":\"1.0\",\"content\":\"explicit\"}],\"type\":\"pronunciation\"},{\"start_time\":\"4.42\",\"end_time\":\"5.02\",\"alternatives\":[{\"confidence\":\"1.0\",\"content\":\"algorithms\"}],\"type\":\"pronunciation\"},{\"start_time\":\"5.02\",\"end_time\":\"5.25\",\"alternatives\":[{\"confidence\":\"1.0\",\"content\":\"with\"}],\"type\":\"pronunciation\"},{\"start_time\":\"5.25\",\"end_time\":\"5.44\",\"alternatives\":[{\"confidence\":\"1.0\",\"content\":\"good\"}],\"type\":\"pronunciation\"},{\"start_time\":\"5.44\",\"end_time\":\"5.98\",\"alternatives\":[{\"confidence\":\"0.996\",\"content\":\"performance\"}],\"type\":\"pronunciation\"},{\"start_time\":\"5.98\",\"end_time\":\"6.11\",\"alternatives\":[{\"confidence\":\"0.643\",\"content\":\"as\"}],\"type\":\"pronunciation\"},{\"start_time\":\"6.11\",\"end_time\":\"6.55\",\"alternatives\":[{\"confidence\":\"1.0\",\"content\":\"difficult\"}],\"type\":\"pronunciation\"},{\"start_time\":\"6.56\",\"end_time\":\"6.69\",\"alternatives\":[{\"confidence\":\"0.99\",\"content\":\"or\"}],\"type\":\"pronunciation\"},{\"start_time\":\"6.69\",\"end_time\":\"7.46\",\"alternatives\":[{\"confidence\":\"0.992\",\"content\":\"infeasible\"}],\"type\":\"pronunciation\"},{\"alternatives\":[{\"confidence\":\"0.0\",\"content\":\".\"}],\"type\":\"punctuation\"},{\"start_time\":\"7.75\",\"end_time\":\"8.26\",\"alternatives\":[{\"confidence\":\"1.0\",\"content\":\"Example\"}],\"type\":\"pronunciation\"},{\"start_time\":\"8.26\",\"end_time\":\"8.93\",\"alternatives\":[{\"confidence\":\"1.0\",\"content\":\"applications\"}],\"type\":\"pronunciation\"},{\"start_time\":\"8.93\",\"end_time\":\"9.31\",\"alternatives\":[{\"confidence\":\"0.996\",\"content\":\"include\"}],\"type\":\"pronunciation\"},{\"start_time\":\"9.32\",\"end_time\":\"9.65\",\"alternatives\":[{\"confidence\":\"1.0\",\"content\":\"email\"}],\"type\":\"pronunciation\"},{\"start_time\":\"9.65\",\"end_time\":\"10.26\",\"alternatives\":[{\"confidence\":\"1.0\",\"content\":\"filtering\"}],\"type\":\"pronunciation\"},{\"alternatives\":[{\"confidence\":\"0.0\",\"content\":\",\"}],\"type\":\"punctuation\"},{\"start_time\":\"10.35\",\"end_time\":\"10.89\",\"alternatives\":[{\"confidence\":\"0.999\",\"content\":\"detection\"}],\"type\":\"pronunciation\"},{\"start_time\":\"10.89\",\"end_time\":\"11.01\",\"alternatives\":[{\"confidence\":\"1.0\",\"content\":\"of\"}],\"type\":\"pronunciation\"},{\"start_time\":\"11.01\",\"end_time\":\"11.37\",\"alternatives\":[{\"confidence\":\"0.997\",\"content\":\"network\"}],\"type\":\"pronunciation\"},{\"start_time\":\"11.37\",\"end_time\":\"11.88\",\"alternatives\":[{\"confidence\":\"0.998\",\"content\":\"intruders\"}],\"type\":\"pronunciation\"},{\"start_time\":\"11.88\",\"end_time\":\"12.04\",\"alternatives\":[{\"confidence\":\"1.0\",\"content\":\"and\"}],\"type\":\"pronunciation\"},{\"start_time\":\"12.04\",\"end_time\":\"12.38\",\"alternatives\":[{\"confidence\":\"1.0\",\"content\":\"computer\"}],\"type\":\"pronunciation\"},{\"start_time\":\"12.38\",\"end_time\":\"12.82\",\"alternatives\":[{\"confidence\":\"1.0\",\"content\":\"vision\"}],\"type\":\"pronunciation\"},{\"alternatives\":[{\"confidence\":\"0.0\",\"content\":\".\"}],\"type\":\"punctuation\"},{\"start_time\":\"13.14\",\"end_time\":\"13.51\",\"alternatives\":[{\"confidence\":\"1.0\",\"content\":\"Machine\"}],\"type\":\"pronunciation\"},{\"start_time\":\"13.51\",\"end_time\":\"13.75\",\"alternatives\":[{\"confidence\":\"1.0\",\"content\":\"learning\"}],\"type\":\"pronunciation\"},{\"start_time\":\"13.75\",\"end_time\":\"13.87\",\"alternatives\":[{\"confidence\":\"0.998\",\"content\":\"is\"}],\"type\":\"pronunciation\"},{\"start_time\":\"13.87\",\"end_time\":\"14.29\",\"alternatives\":[{\"confidence\":\"1.0\",\"content\":\"closely\"}],\"type\":\"pronunciation\"},{\"start_time\":\"14.29\",\"end_time\":\"14.65\",\"alternatives\":[{\"confidence\":\"1.0\",\"content\":\"related\"}],\"type\":\"pronunciation\"},{\"start_time\":\"14.65\",\"end_time\":\"14.79\",\"alternatives\":[{\"confidence\":\"0.999\",\"content\":\"to\"}],\"type\":\"pronunciation\"},{\"start_time\":\"14.79\",\"end_time\":\"15.46\",\"alternatives\":[{\"confidence\":\"1.0\",\"content\":\"computational\"}],\"type\":\"pronunciation\"},{\"start_time\":\"15.46\",\"end_time\":\"16.16\",\"alternatives\":[{\"confidence\":\"1.0\",\"content\":\"statistics\"}],\"type\":\"pronunciation\"},{\"alternatives\":[{\"confidence\":\"0.0\",\"content\":\",\"}],\"type\":\"punctuation\"},{\"start_time\":\"16.17\",\"end_time\":\"16.44\",\"alternatives\":[{\"confidence\":\"1.0\",\"content\":\"which\"}],\"type\":\"pronunciation\"},{\"start_time\":\"16.44\",\"end_time\":\"16.69\",\"alternatives\":[{\"confidence\":\"1.0\",\"content\":\"also\"}],\"type\":\"pronunciation\"},{\"start_time\":\"16.69\",\"end_time\":\"17.19\",\"alternatives\":[{\"confidence\":\"1.0\",\"content\":\"focuses\"}],\"type\":\"pronunciation\"},{\"start_time\":\"17.19\",\"end_time\":\"17.36\",\"alternatives\":[{\"confidence\":\"1.0\",\"content\":\"on\"}],\"type\":\"pronunciation\"},{\"start_time\":\"17.36\",\"end_time\":\"18.04\",\"alternatives\":[{\"confidence\":\"1.0\",\"content\":\"predictions\"}],\"type\":\"pronunciation\"},{\"start_time\":\"18.24\",\"end_time\":\"18.59\",\"alternatives\":[{\"confidence\":\"1.0\",\"content\":\"making\"}],\"type\":\"pronunciation\"},{\"start_time\":\"18.59\",\"end_time\":\"19.03\",\"alternatives\":[{\"confidence\":\"0.999\",\"content\":\"through\"}],\"type\":\"pronunciation\"},{\"start_time\":\"19.04\",\"end_time\":\"19.18\",\"alternatives\":[{\"confidence\":\"1.0\",\"content\":\"the\"}],\"type\":\"pronunciation\"},{\"start_time\":\"19.18\",\"end_time\":\"19.36\",\"alternatives\":[{\"confidence\":\"1.0\",\"content\":\"use\"}],\"type\":\"pronunciation\"},{\"start_time\":\"19.36\",\"end_time\":\"19.45\",\"alternatives\":[{\"confidence\":\"1.0\",\"content\":\"of\"}],\"type\":\"pronunciation\"},{\"start_time\":\"19.45\",\"end_time\":\"19.94\",\"alternatives\":[{\"confidence\":\"0.999\",\"content\":\"computer\"}],\"type\":\"pronunciation\"},{\"alternatives\":[{\"confidence\":\"0.0\",\"content\":\".\"}],\"type\":\"punctuation\"},{\"start_time\":\"20.3\",\"end_time\":\"20.47\",\"alternatives\":[{\"confidence\":\"0.989\",\"content\":\"It\"}],\"type\":\"pronunciation\"},{\"start_time\":\"20.47\",\"end_time\":\"20.62\",\"alternatives\":[{\"confidence\":\"1.0\",\"content\":\"has\"}],\"type\":\"pronunciation\"},{\"start_time\":\"20.62\",\"end_time\":\"20.91\",\"alternatives\":[{\"confidence\":\"1.0\",\"content\":\"strong\"}],\"type\":\"pronunciation\"},{\"start_time\":\"20.91\",\"end_time\":\"21.17\",\"alternatives\":[{\"confidence\":\"1.0\",\"content\":\"ties\"}],\"type\":\"pronunciation\"},{\"start_time\":\"21.17\",\"end_time\":\"21.26\",\"alternatives\":[{\"confidence\":\"0.995\",\"content\":\"to\"}],\"type\":\"pronunciation\"},{\"start_time\":\"21.26\",\"end_time\":\"21.86\",\"alternatives\":[{\"confidence\":\"0.985\",\"content\":\"mathematical\"}],\"type\":\"pronunciation\"},{\"start_time\":\"21.86\",\"end_time\":\"22.66\",\"alternatives\":[{\"confidence\":\"1.0\",\"content\":\"optimization\"}],\"type\":\"pronunciation\"},{\"alternatives\":[{\"confidence\":\"0.0\",\"content\":\",\"}],\"type\":\"punctuation\"},{\"start_time\":\"22.67\",\"end_time\":\"22.9\",\"alternatives\":[{\"confidence\":\"1.0\",\"content\":\"which\"}],\"type\":\"pronunciation\"},{\"start_time\":\"22.9\",\"end_time\":\"23.38\",\"alternatives\":[{\"confidence\":\"1.0\",\"content\":\"delivers\"}],\"type\":\"pronunciation\"},{\"start_time\":\"23.38\",\"end_time\":\"23.88\",\"alternatives\":[{\"confidence\":\"0.973\",\"content\":\"methods\"}],\"type\":\"pronunciation\"},{\"alternatives\":[{\"confidence\":\"0.0\",\"content\":\",\"}],\"type\":\"punctuation\"},{\"start_time\":\"23.89\",\"end_time\":\"24.42\",\"alternatives\":[{\"confidence\":\"1.0\",\"content\":\"theory\"}],\"type\":\"pronunciation\"},{\"start_time\":\"24.43\",\"end_time\":\"24.58\",\"alternatives\":[{\"confidence\":\"1.0\",\"content\":\"and\"}],\"type\":\"pronunciation\"},{\"start_time\":\"24.58\",\"end_time\":\"25.08\",\"alternatives\":[{\"confidence\":\"1.0\",\"content\":\"application\"}],\"type\":\"pronunciation\"},{\"start_time\":\"25.08\",\"end_time\":\"25.44\",\"alternatives\":[{\"confidence\":\"1.0\",\"content\":\"domains\"}],\"type\":\"pronunciation\"},{\"start_time\":\"25.44\",\"end_time\":\"25.53\",\"alternatives\":[{\"confidence\":\"0.997\",\"content\":\"to\"}],\"type\":\"pronunciation\"},{\"start_time\":\"25.53\",\"end_time\":\"25.61\",\"alternatives\":[{\"confidence\":\"1.0\",\"content\":\"the\"}],\"type\":\"pronunciation\"},{\"start_time\":\"25.61\",\"end_time\":\"26.09\",\"alternatives\":[{\"confidence\":\"1.0\",\"content\":\"field\"}],\"type\":\"pronunciation\"},{\"alternatives\":[{\"confidence\":\"0.0\",\"content\":\".\"}],\"type\":\"punctuation\"}]},\"status\":\"COMPLETED\"}"
   ]
  },
  {
   "cell_type": "code",
   "execution_count": 3,
   "id": "8c1434b9",
   "metadata": {},
   "outputs": [
    {
     "data": {
      "text/plain": [
       "{'jobName': 'sample-transcription-job',\n",
       " 'accountId': '953151817583',\n",
       " 'results': {'transcripts': [{'transcript': 'Machine learning is employed in a range of computing tasks where designing and programming explicit algorithms with good performance as difficult or infeasible. Example applications include email filtering, detection of network intruders and computer vision. Machine learning is closely related to computational statistics, which also focuses on predictions making through the use of computer. It has strong ties to mathematical optimization, which delivers methods, theory and application domains to the field.'}],\n",
       "  'items': [{'start_time': '0.04',\n",
       "    'end_time': '0.38',\n",
       "    'alternatives': [{'confidence': '1.0', 'content': 'Machine'}],\n",
       "    'type': 'pronunciation'},\n",
       "   {'start_time': '0.38',\n",
       "    'end_time': '0.72',\n",
       "    'alternatives': [{'confidence': '1.0', 'content': 'learning'}],\n",
       "    'type': 'pronunciation'},\n",
       "   {'start_time': '0.72',\n",
       "    'end_time': '0.86',\n",
       "    'alternatives': [{'confidence': '1.0', 'content': 'is'}],\n",
       "    'type': 'pronunciation'},\n",
       "   {'start_time': '0.86',\n",
       "    'end_time': '1.26',\n",
       "    'alternatives': [{'confidence': '1.0', 'content': 'employed'}],\n",
       "    'type': 'pronunciation'},\n",
       "   {'start_time': '1.26',\n",
       "    'end_time': '1.34',\n",
       "    'alternatives': [{'confidence': '1.0', 'content': 'in'}],\n",
       "    'type': 'pronunciation'},\n",
       "   {'start_time': '1.34',\n",
       "    'end_time': '1.4',\n",
       "    'alternatives': [{'confidence': '1.0', 'content': 'a'}],\n",
       "    'type': 'pronunciation'},\n",
       "   {'start_time': '1.4',\n",
       "    'end_time': '1.66',\n",
       "    'alternatives': [{'confidence': '1.0', 'content': 'range'}],\n",
       "    'type': 'pronunciation'},\n",
       "   {'start_time': '1.66',\n",
       "    'end_time': '1.77',\n",
       "    'alternatives': [{'confidence': '1.0', 'content': 'of'}],\n",
       "    'type': 'pronunciation'},\n",
       "   {'start_time': '1.77',\n",
       "    'end_time': '2.25',\n",
       "    'alternatives': [{'confidence': '1.0', 'content': 'computing'}],\n",
       "    'type': 'pronunciation'},\n",
       "   {'start_time': '2.25',\n",
       "    'end_time': '2.75',\n",
       "    'alternatives': [{'confidence': '1.0', 'content': 'tasks'}],\n",
       "    'type': 'pronunciation'},\n",
       "   {'start_time': '2.76',\n",
       "    'end_time': '2.97',\n",
       "    'alternatives': [{'confidence': '0.844', 'content': 'where'}],\n",
       "    'type': 'pronunciation'},\n",
       "   {'start_time': '2.97',\n",
       "    'end_time': '3.42',\n",
       "    'alternatives': [{'confidence': '1.0', 'content': 'designing'}],\n",
       "    'type': 'pronunciation'},\n",
       "   {'start_time': '3.42',\n",
       "    'end_time': '3.51',\n",
       "    'alternatives': [{'confidence': '0.821', 'content': 'and'}],\n",
       "    'type': 'pronunciation'},\n",
       "   {'start_time': '3.51',\n",
       "    'end_time': '3.9',\n",
       "    'alternatives': [{'confidence': '0.806', 'content': 'programming'}],\n",
       "    'type': 'pronunciation'},\n",
       "   {'start_time': '3.9',\n",
       "    'end_time': '4.41',\n",
       "    'alternatives': [{'confidence': '1.0', 'content': 'explicit'}],\n",
       "    'type': 'pronunciation'},\n",
       "   {'start_time': '4.42',\n",
       "    'end_time': '5.02',\n",
       "    'alternatives': [{'confidence': '1.0', 'content': 'algorithms'}],\n",
       "    'type': 'pronunciation'},\n",
       "   {'start_time': '5.02',\n",
       "    'end_time': '5.25',\n",
       "    'alternatives': [{'confidence': '1.0', 'content': 'with'}],\n",
       "    'type': 'pronunciation'},\n",
       "   {'start_time': '5.25',\n",
       "    'end_time': '5.44',\n",
       "    'alternatives': [{'confidence': '1.0', 'content': 'good'}],\n",
       "    'type': 'pronunciation'},\n",
       "   {'start_time': '5.44',\n",
       "    'end_time': '5.98',\n",
       "    'alternatives': [{'confidence': '0.996', 'content': 'performance'}],\n",
       "    'type': 'pronunciation'},\n",
       "   {'start_time': '5.98',\n",
       "    'end_time': '6.11',\n",
       "    'alternatives': [{'confidence': '0.643', 'content': 'as'}],\n",
       "    'type': 'pronunciation'},\n",
       "   {'start_time': '6.11',\n",
       "    'end_time': '6.55',\n",
       "    'alternatives': [{'confidence': '1.0', 'content': 'difficult'}],\n",
       "    'type': 'pronunciation'},\n",
       "   {'start_time': '6.56',\n",
       "    'end_time': '6.69',\n",
       "    'alternatives': [{'confidence': '0.99', 'content': 'or'}],\n",
       "    'type': 'pronunciation'},\n",
       "   {'start_time': '6.69',\n",
       "    'end_time': '7.46',\n",
       "    'alternatives': [{'confidence': '0.992', 'content': 'infeasible'}],\n",
       "    'type': 'pronunciation'},\n",
       "   {'alternatives': [{'confidence': '0.0', 'content': '.'}],\n",
       "    'type': 'punctuation'},\n",
       "   {'start_time': '7.75',\n",
       "    'end_time': '8.26',\n",
       "    'alternatives': [{'confidence': '1.0', 'content': 'Example'}],\n",
       "    'type': 'pronunciation'},\n",
       "   {'start_time': '8.26',\n",
       "    'end_time': '8.93',\n",
       "    'alternatives': [{'confidence': '1.0', 'content': 'applications'}],\n",
       "    'type': 'pronunciation'},\n",
       "   {'start_time': '8.93',\n",
       "    'end_time': '9.31',\n",
       "    'alternatives': [{'confidence': '0.996', 'content': 'include'}],\n",
       "    'type': 'pronunciation'},\n",
       "   {'start_time': '9.32',\n",
       "    'end_time': '9.65',\n",
       "    'alternatives': [{'confidence': '1.0', 'content': 'email'}],\n",
       "    'type': 'pronunciation'},\n",
       "   {'start_time': '9.65',\n",
       "    'end_time': '10.26',\n",
       "    'alternatives': [{'confidence': '1.0', 'content': 'filtering'}],\n",
       "    'type': 'pronunciation'},\n",
       "   {'alternatives': [{'confidence': '0.0', 'content': ','}],\n",
       "    'type': 'punctuation'},\n",
       "   {'start_time': '10.35',\n",
       "    'end_time': '10.89',\n",
       "    'alternatives': [{'confidence': '0.999', 'content': 'detection'}],\n",
       "    'type': 'pronunciation'},\n",
       "   {'start_time': '10.89',\n",
       "    'end_time': '11.01',\n",
       "    'alternatives': [{'confidence': '1.0', 'content': 'of'}],\n",
       "    'type': 'pronunciation'},\n",
       "   {'start_time': '11.01',\n",
       "    'end_time': '11.37',\n",
       "    'alternatives': [{'confidence': '0.997', 'content': 'network'}],\n",
       "    'type': 'pronunciation'},\n",
       "   {'start_time': '11.37',\n",
       "    'end_time': '11.88',\n",
       "    'alternatives': [{'confidence': '0.998', 'content': 'intruders'}],\n",
       "    'type': 'pronunciation'},\n",
       "   {'start_time': '11.88',\n",
       "    'end_time': '12.04',\n",
       "    'alternatives': [{'confidence': '1.0', 'content': 'and'}],\n",
       "    'type': 'pronunciation'},\n",
       "   {'start_time': '12.04',\n",
       "    'end_time': '12.38',\n",
       "    'alternatives': [{'confidence': '1.0', 'content': 'computer'}],\n",
       "    'type': 'pronunciation'},\n",
       "   {'start_time': '12.38',\n",
       "    'end_time': '12.82',\n",
       "    'alternatives': [{'confidence': '1.0', 'content': 'vision'}],\n",
       "    'type': 'pronunciation'},\n",
       "   {'alternatives': [{'confidence': '0.0', 'content': '.'}],\n",
       "    'type': 'punctuation'},\n",
       "   {'start_time': '13.14',\n",
       "    'end_time': '13.51',\n",
       "    'alternatives': [{'confidence': '1.0', 'content': 'Machine'}],\n",
       "    'type': 'pronunciation'},\n",
       "   {'start_time': '13.51',\n",
       "    'end_time': '13.75',\n",
       "    'alternatives': [{'confidence': '1.0', 'content': 'learning'}],\n",
       "    'type': 'pronunciation'},\n",
       "   {'start_time': '13.75',\n",
       "    'end_time': '13.87',\n",
       "    'alternatives': [{'confidence': '0.998', 'content': 'is'}],\n",
       "    'type': 'pronunciation'},\n",
       "   {'start_time': '13.87',\n",
       "    'end_time': '14.29',\n",
       "    'alternatives': [{'confidence': '1.0', 'content': 'closely'}],\n",
       "    'type': 'pronunciation'},\n",
       "   {'start_time': '14.29',\n",
       "    'end_time': '14.65',\n",
       "    'alternatives': [{'confidence': '1.0', 'content': 'related'}],\n",
       "    'type': 'pronunciation'},\n",
       "   {'start_time': '14.65',\n",
       "    'end_time': '14.79',\n",
       "    'alternatives': [{'confidence': '0.999', 'content': 'to'}],\n",
       "    'type': 'pronunciation'},\n",
       "   {'start_time': '14.79',\n",
       "    'end_time': '15.46',\n",
       "    'alternatives': [{'confidence': '1.0', 'content': 'computational'}],\n",
       "    'type': 'pronunciation'},\n",
       "   {'start_time': '15.46',\n",
       "    'end_time': '16.16',\n",
       "    'alternatives': [{'confidence': '1.0', 'content': 'statistics'}],\n",
       "    'type': 'pronunciation'},\n",
       "   {'alternatives': [{'confidence': '0.0', 'content': ','}],\n",
       "    'type': 'punctuation'},\n",
       "   {'start_time': '16.17',\n",
       "    'end_time': '16.44',\n",
       "    'alternatives': [{'confidence': '1.0', 'content': 'which'}],\n",
       "    'type': 'pronunciation'},\n",
       "   {'start_time': '16.44',\n",
       "    'end_time': '16.69',\n",
       "    'alternatives': [{'confidence': '1.0', 'content': 'also'}],\n",
       "    'type': 'pronunciation'},\n",
       "   {'start_time': '16.69',\n",
       "    'end_time': '17.19',\n",
       "    'alternatives': [{'confidence': '1.0', 'content': 'focuses'}],\n",
       "    'type': 'pronunciation'},\n",
       "   {'start_time': '17.19',\n",
       "    'end_time': '17.36',\n",
       "    'alternatives': [{'confidence': '1.0', 'content': 'on'}],\n",
       "    'type': 'pronunciation'},\n",
       "   {'start_time': '17.36',\n",
       "    'end_time': '18.04',\n",
       "    'alternatives': [{'confidence': '1.0', 'content': 'predictions'}],\n",
       "    'type': 'pronunciation'},\n",
       "   {'start_time': '18.24',\n",
       "    'end_time': '18.59',\n",
       "    'alternatives': [{'confidence': '1.0', 'content': 'making'}],\n",
       "    'type': 'pronunciation'},\n",
       "   {'start_time': '18.59',\n",
       "    'end_time': '19.03',\n",
       "    'alternatives': [{'confidence': '0.999', 'content': 'through'}],\n",
       "    'type': 'pronunciation'},\n",
       "   {'start_time': '19.04',\n",
       "    'end_time': '19.18',\n",
       "    'alternatives': [{'confidence': '1.0', 'content': 'the'}],\n",
       "    'type': 'pronunciation'},\n",
       "   {'start_time': '19.18',\n",
       "    'end_time': '19.36',\n",
       "    'alternatives': [{'confidence': '1.0', 'content': 'use'}],\n",
       "    'type': 'pronunciation'},\n",
       "   {'start_time': '19.36',\n",
       "    'end_time': '19.45',\n",
       "    'alternatives': [{'confidence': '1.0', 'content': 'of'}],\n",
       "    'type': 'pronunciation'},\n",
       "   {'start_time': '19.45',\n",
       "    'end_time': '19.94',\n",
       "    'alternatives': [{'confidence': '0.999', 'content': 'computer'}],\n",
       "    'type': 'pronunciation'},\n",
       "   {'alternatives': [{'confidence': '0.0', 'content': '.'}],\n",
       "    'type': 'punctuation'},\n",
       "   {'start_time': '20.3',\n",
       "    'end_time': '20.47',\n",
       "    'alternatives': [{'confidence': '0.989', 'content': 'It'}],\n",
       "    'type': 'pronunciation'},\n",
       "   {'start_time': '20.47',\n",
       "    'end_time': '20.62',\n",
       "    'alternatives': [{'confidence': '1.0', 'content': 'has'}],\n",
       "    'type': 'pronunciation'},\n",
       "   {'start_time': '20.62',\n",
       "    'end_time': '20.91',\n",
       "    'alternatives': [{'confidence': '1.0', 'content': 'strong'}],\n",
       "    'type': 'pronunciation'},\n",
       "   {'start_time': '20.91',\n",
       "    'end_time': '21.17',\n",
       "    'alternatives': [{'confidence': '1.0', 'content': 'ties'}],\n",
       "    'type': 'pronunciation'},\n",
       "   {'start_time': '21.17',\n",
       "    'end_time': '21.26',\n",
       "    'alternatives': [{'confidence': '0.995', 'content': 'to'}],\n",
       "    'type': 'pronunciation'},\n",
       "   {'start_time': '21.26',\n",
       "    'end_time': '21.86',\n",
       "    'alternatives': [{'confidence': '0.985', 'content': 'mathematical'}],\n",
       "    'type': 'pronunciation'},\n",
       "   {'start_time': '21.86',\n",
       "    'end_time': '22.66',\n",
       "    'alternatives': [{'confidence': '1.0', 'content': 'optimization'}],\n",
       "    'type': 'pronunciation'},\n",
       "   {'alternatives': [{'confidence': '0.0', 'content': ','}],\n",
       "    'type': 'punctuation'},\n",
       "   {'start_time': '22.67',\n",
       "    'end_time': '22.9',\n",
       "    'alternatives': [{'confidence': '1.0', 'content': 'which'}],\n",
       "    'type': 'pronunciation'},\n",
       "   {'start_time': '22.9',\n",
       "    'end_time': '23.38',\n",
       "    'alternatives': [{'confidence': '1.0', 'content': 'delivers'}],\n",
       "    'type': 'pronunciation'},\n",
       "   {'start_time': '23.38',\n",
       "    'end_time': '23.88',\n",
       "    'alternatives': [{'confidence': '0.973', 'content': 'methods'}],\n",
       "    'type': 'pronunciation'},\n",
       "   {'alternatives': [{'confidence': '0.0', 'content': ','}],\n",
       "    'type': 'punctuation'},\n",
       "   {'start_time': '23.89',\n",
       "    'end_time': '24.42',\n",
       "    'alternatives': [{'confidence': '1.0', 'content': 'theory'}],\n",
       "    'type': 'pronunciation'},\n",
       "   {'start_time': '24.43',\n",
       "    'end_time': '24.58',\n",
       "    'alternatives': [{'confidence': '1.0', 'content': 'and'}],\n",
       "    'type': 'pronunciation'},\n",
       "   {'start_time': '24.58',\n",
       "    'end_time': '25.08',\n",
       "    'alternatives': [{'confidence': '1.0', 'content': 'application'}],\n",
       "    'type': 'pronunciation'},\n",
       "   {'start_time': '25.08',\n",
       "    'end_time': '25.44',\n",
       "    'alternatives': [{'confidence': '1.0', 'content': 'domains'}],\n",
       "    'type': 'pronunciation'},\n",
       "   {'start_time': '25.44',\n",
       "    'end_time': '25.53',\n",
       "    'alternatives': [{'confidence': '0.997', 'content': 'to'}],\n",
       "    'type': 'pronunciation'},\n",
       "   {'start_time': '25.53',\n",
       "    'end_time': '25.61',\n",
       "    'alternatives': [{'confidence': '1.0', 'content': 'the'}],\n",
       "    'type': 'pronunciation'},\n",
       "   {'start_time': '25.61',\n",
       "    'end_time': '26.09',\n",
       "    'alternatives': [{'confidence': '1.0', 'content': 'field'}],\n",
       "    'type': 'pronunciation'},\n",
       "   {'alternatives': [{'confidence': '0.0', 'content': '.'}],\n",
       "    'type': 'punctuation'}]},\n",
       " 'status': 'COMPLETED'}"
      ]
     },
     "execution_count": 3,
     "metadata": {},
     "output_type": "execute_result"
    }
   ],
   "source": [
    "sample"
   ]
  },
  {
   "cell_type": "code",
   "execution_count": 4,
   "id": "fe096d54",
   "metadata": {},
   "outputs": [],
   "source": [
    "transcripts = sample['results']"
   ]
  },
  {
   "cell_type": "code",
   "execution_count": 5,
   "id": "d7d31105",
   "metadata": {},
   "outputs": [
    {
     "data": {
      "text/plain": [
       "dict"
      ]
     },
     "execution_count": 5,
     "metadata": {},
     "output_type": "execute_result"
    }
   ],
   "source": [
    "type(transcripts)"
   ]
  },
  {
   "cell_type": "code",
   "execution_count": 6,
   "id": "6b19e8e5",
   "metadata": {},
   "outputs": [],
   "source": [
    "transcript = transcripts['transcripts']"
   ]
  },
  {
   "cell_type": "code",
   "execution_count": 7,
   "id": "614f8935",
   "metadata": {},
   "outputs": [
    {
     "data": {
      "text/plain": [
       "list"
      ]
     },
     "execution_count": 7,
     "metadata": {},
     "output_type": "execute_result"
    }
   ],
   "source": [
    "type(transcript)"
   ]
  },
  {
   "cell_type": "code",
   "execution_count": 8,
   "id": "de9a4a0f",
   "metadata": {},
   "outputs": [],
   "source": [
    "string = 'Machine learning is employed in a range of computing tasks where designing and programming explicit algorithms with good performance as difficult or infeasible. Example applications include email filtering, detection of network intruders and computer vision. Machine learning is closely related to computational statistics, which also focuses on predictions making through the use of computer. It has strong ties to mathematical optimization, which delivers methods, theory and application domains to the field.'"
   ]
  },
  {
   "cell_type": "code",
   "execution_count": 9,
   "id": "bb0c3322",
   "metadata": {},
   "outputs": [],
   "source": [
    "string = string.split()"
   ]
  },
  {
   "cell_type": "code",
   "execution_count": 10,
   "id": "ca973175",
   "metadata": {},
   "outputs": [
    {
     "data": {
      "text/plain": [
       "['Machine',\n",
       " 'learning',\n",
       " 'is',\n",
       " 'employed',\n",
       " 'in',\n",
       " 'a',\n",
       " 'range',\n",
       " 'of',\n",
       " 'computing',\n",
       " 'tasks',\n",
       " 'where',\n",
       " 'designing',\n",
       " 'and',\n",
       " 'programming',\n",
       " 'explicit',\n",
       " 'algorithms',\n",
       " 'with',\n",
       " 'good',\n",
       " 'performance',\n",
       " 'as',\n",
       " 'difficult',\n",
       " 'or',\n",
       " 'infeasible.',\n",
       " 'Example',\n",
       " 'applications',\n",
       " 'include',\n",
       " 'email',\n",
       " 'filtering,',\n",
       " 'detection',\n",
       " 'of',\n",
       " 'network',\n",
       " 'intruders',\n",
       " 'and',\n",
       " 'computer',\n",
       " 'vision.',\n",
       " 'Machine',\n",
       " 'learning',\n",
       " 'is',\n",
       " 'closely',\n",
       " 'related',\n",
       " 'to',\n",
       " 'computational',\n",
       " 'statistics,',\n",
       " 'which',\n",
       " 'also',\n",
       " 'focuses',\n",
       " 'on',\n",
       " 'predictions',\n",
       " 'making',\n",
       " 'through',\n",
       " 'the',\n",
       " 'use',\n",
       " 'of',\n",
       " 'computer.',\n",
       " 'It',\n",
       " 'has',\n",
       " 'strong',\n",
       " 'ties',\n",
       " 'to',\n",
       " 'mathematical',\n",
       " 'optimization,',\n",
       " 'which',\n",
       " 'delivers',\n",
       " 'methods,',\n",
       " 'theory',\n",
       " 'and',\n",
       " 'application',\n",
       " 'domains',\n",
       " 'to',\n",
       " 'the',\n",
       " 'field.']"
      ]
     },
     "execution_count": 10,
     "metadata": {},
     "output_type": "execute_result"
    }
   ],
   "source": [
    "string"
   ]
  },
  {
   "cell_type": "code",
   "execution_count": 11,
   "id": "00128c44",
   "metadata": {},
   "outputs": [
    {
     "data": {
      "text/plain": [
       "71"
      ]
     },
     "execution_count": 11,
     "metadata": {},
     "output_type": "execute_result"
    }
   ],
   "source": [
    "len(string)"
   ]
  },
  {
   "cell_type": "code",
   "execution_count": 12,
   "id": "19f8b95f",
   "metadata": {},
   "outputs": [],
   "source": [
    "df = pd.DataFrame(string)"
   ]
  },
  {
   "cell_type": "code",
   "execution_count": 13,
   "id": "e18ec7cf",
   "metadata": {},
   "outputs": [
    {
     "data": {
      "text/plain": [
       "and              3\n",
       "to               3\n",
       "of               3\n",
       "is               2\n",
       "the              2\n",
       "Machine          2\n",
       "which            2\n",
       "learning         2\n",
       "performance      1\n",
       "or               1\n",
       "optimization,    1\n",
       "on               1\n",
       "methods,         1\n",
       "network          1\n",
       "programming      1\n",
       "mathematical     1\n",
       "making           1\n",
       "predictions      1\n",
       "Example          1\n",
       "range            1\n",
       "related          1\n",
       "intruders        1\n",
       "strong           1\n",
       "tasks            1\n",
       "theory           1\n",
       "through          1\n",
       "ties             1\n",
       "use              1\n",
       "vision.          1\n",
       "where            1\n",
       "statistics,      1\n",
       "infeasible.      1\n",
       "It               1\n",
       "include          1\n",
       "a                1\n",
       "algorithms       1\n",
       "also             1\n",
       "application      1\n",
       "applications     1\n",
       "as               1\n",
       "closely          1\n",
       "computational    1\n",
       "computer         1\n",
       "computer.        1\n",
       "computing        1\n",
       "delivers         1\n",
       "designing        1\n",
       "detection        1\n",
       "difficult        1\n",
       "domains          1\n",
       "email            1\n",
       "employed         1\n",
       "explicit         1\n",
       "field.           1\n",
       "filtering,       1\n",
       "focuses          1\n",
       "good             1\n",
       "has              1\n",
       "in               1\n",
       "with             1\n",
       "dtype: int64"
      ]
     },
     "execution_count": 13,
     "metadata": {},
     "output_type": "execute_result"
    }
   ],
   "source": [
    "df.value_counts()"
   ]
  },
  {
   "cell_type": "code",
   "execution_count": 14,
   "id": "6d65f6ab",
   "metadata": {},
   "outputs": [],
   "source": [
    "string2 = \"this week on the season premiere Outside Speed unsolved into the death of Edgar Allan Poe, a case as mysterious and McCobb as the infamous writers stories, jesus season premiere. I'm enthusiastic. I don't know much about Allan Poe really bringing it. That's good. That's good. He wrote some fun yards, but gloomy fella didn't know he had an untimely death. Quite honestly. I don't know, like a cool guy. They need a football team after in sort of they did the Ravens. I didn't realize that until a few years ago, I was like, I don't think they named it after the Baltimore Ravens. They did not name it was from Baltimore. Are you kidding me? Wait, where are you kidding? That's the whole thing. Holy shit, I just Ravens skin. It is, this is this is the second time we've talked about like a tortured artist type and we did old Vincent back in the day. It was po truly tortured, tortured, tortured. I'd say he did kind of look the part. Yeah, he kind of looks like what you're donning white facial hair was I don't hate to hear, don't need to hear. Edgar. Allan Poe was born on january 19th 18 oh nine in boston. To a pair of actors, Elizabeth Arnold Poe and David Poe jr Within the first three years of his life, both his parents were dead and the we Po was brought to Richmond to live with his presumed godfather, john Allen, how do you hear that presumed God, I don't know, people get kind of fast and loose with that. Right, what year is it? This is 89, You've got other stuff to worry about TBS out there. They're like, yeah, yeah, so we definitely will pick a godfather, don't worry about it. Oh, we're dead now. In 1826 po enrolled at the University of Virginia where he was an excellent student though John Allen was a wealthy tobacco merchant. He was also a tightwad who sent Poe to school with less than a third of the money needed to try to make up for the shortfall. Post started gambling as you might expect. This strategy didn't quite pay off and by the end of his first term po was so poor, he was burning his furniture to stay warm. It's okay that john Allen, it wasn't just handing them piles of money. What does he want? I mean you could quit amount. No make him work for it. Make them strong. Oh I mean, you know, get them out there and get them work and get him burning his own furniture. I agree with him a few lessons, the experience of losing. Yeah. Yeah. Can I can walk back on some of this. Mhm. At this time, Allen was actually angry at the young student for gambling While PO was likewise upset at his godfather for refusing to contribute more to his education. With no other options, PO was forced to drop out of school. Thus began a tumultuous time imposed life upon returning to Richmond, Poe discovered his Beyonce. Al mira. Shelton had become engaged to a despairing po, moved to boston and enlisted in the U. S. Army to support himself so he could write his godfather. However, then bob pose way out of the military, which was apparently something you could do. PO then enrolled in West Point only to be expelled eight months later after making himself absent from all drills and classes for a week with nowhere to go, PO attempted to seek out his father's relatives in Baltimore, where he was promptly robbed by one of his cousins. Bath bad cousin. I don't that's rough. This guy is being followed by a dark cloud. It just seems like. What do you do when, when life throws curveballs at you? Nice cry. You feeling a gaunt season of buzzfeed, unsolved, supernatural or? Yeah, let me bust you. Don't solve it. Thank you. Finally, Pope fell into the care of his aunt Maria Clemm and establish some semblance of stability. Post started to publish poems around the time when he moved in with his aunt po also began publishing short stories, one of which won a contest that through his notoriety and lead to an editorial position at the Southern Literary Messenger Enrichment. Kind of feel good, right, When a contest, If all this happened to me, my life is just it's I won a contest scope to us like that. The skills have not tipped. This is the beginning is the beginning is the beginning. This is a little a little pebble on the skin. It's true dark pose. Luck was finally turning around. In addition to his newfound career traction Poe had fallen in love with a girl named Virginia. Grossly Virginia was his cousin. Even grossly er Virginia was half his age. Despite these circumstances, po in Virginia married in Richmond in 18 35 when Poe was 27. In Virginia, I was 13. Can I say okay? You know, obviously, but it is, it is a thing of the time. I mean, you see what I'm saying? All right. We don't need to condemn from our vantage point in history. And so we do condemn wholeheartedly. While their marriage was said to have been a happy one, It was also largely marked by money troubles. You tell me she wasn't out there. And the breaking in the dollars secretary somewhere, turning into finger paintings, the city hall, get recorder po continued moving about the eastern seaboard, piecing together different writing jobs. But finding it nearly impossible to make adequate living When his first collection of short stories, tales of the grotesque and Arabesque, which contained his famous story. And this is cool, was first published in 1840. So I'm doing an experiment, many experiment right now before my real project. Mhm. Just so this is a recording. So the project will be on saturday. I'm going to take this and record in the Pearl and I was just playing this to get a bigger sample. But I used to sign up for amazon web services. Nice. And uh yeah, there's a lot of stuff, there's a lot. I took a class or two in this and so they give you a sample. Uh Mp three player fact um To give you a sample. MP 3 to use. Machine learning is employed. And arrange that someone Tartasky, we're designing a program explicit transcribe it then. So that's cool. Then you can download the transcript into a Jason which basically I just took that out of my V. S. Code and put it here. So all of that that Jason formatted links. Uh huh. And I can I have the tools to work with us because this is all this is it should be a. Mhm. The dictionary. Yeah so let's say from simple just made it up. So this is a dictionary. So let's so the text is actually in here. So dictionary is what dictionary is the like it can be program or something. A script. No. Mhm. Okay. An easy dictionary. Could be something like this. Right so a car? Oh something you make up though? Right okay okay so you have a dictionary of cars or something? Yeah let's help people. So from there I can do simple. Um And I just named it that so what I want is here in transcripts but it's in transcription it's a result. So simple results. So I just got what I need. Pop sheer. Right. Mhm. Okay so even from here let's see results is yeah. Oh we need to name this. Let's call these transcripts. Yeah. See what it's also a dictionary within transport we want. It's still called transcript. So cool so now I've narrowed it down to here. Sure so that's all I want. So now I can turn this. Okay so let's call this that's great business now it's a list. So now I can work with this. Mhm. Yes And write a formula that says like yeah for every thing in this list if it repeats itself. A counter count. Yeah. Whatever. Okay. Oh yeah. So she's a sequence of these letters. All right. She's at one time. So Moon make makes it one learning or whatever. I can return the most used words or whatever. Right? So in you probably see that a few times A is probably a few times. Yeah. So that all came from amazon and I put it into my job. Fair enough. But that is all. So these are all my you can see stuff I'd written actually was actually I'm gonna keep this running because obviously how well it does because I want to take this to the pearl for like an hour mm. Um People talking and it'll transcribe. So what happens if there's like you're hired? Right I'm gonna that's what I'm putting to the test after I'm done. I'm gonna put it in amazon transcribe and see what comes up but it doesn't really matter. Yeah. Yeah yeah like this is actually this is what we wrote today. So this is we'll see you next. This is the latest thing we've learned how to do create these charge charges that what does that represent? Yeah this is a um this is just a part. Oh just single plot. So this is one pedal right here. So the length is 5.2\\\" and the width is one point something. That's another. This is their different species. Oh so roses and daisies or some you can see what the correlation is with and see which one class was. Then they asked. Okay what's the best way to classify? So you you have this you can now see. Well should we compare this one? Looks pretty good. This is suitable length versus pedal length. Uh huh. There's a correlation right? There's no correlation with people with and simple link. So you can see the correlation between three. The factory simple is what the pedal. This was just for us to play with some kind of length. This is the witnesses. Oh okay. Whatever. So people is something whatever the hell that is. But this is so pedal with just work with bigger deal make some of these. So he's just practically making different graphs. That's why it was good. The biggest one was probably field this one These are like, so there's like 180 grows just crunched writing that out. Sleeps subside. Is this? It's abbreviated mhm Work was that again? This one? So this one chicken ball. This one comes from this order's partly order. So pretend you work virtually. And they want to analyze all the groups. Yeah. Do you want to analyze all the orders had in a period? And this kind of simulates that? Yes. For Yeah. Okay. So 4620 rows of orders. So this is order number one. They ordered this This price there to drink their tea. This drink their, this this is all one order because order id. Okay, okay. This is 4000. So that's why you're not seeing it. All. All right. There's too many preview. The orders changed the item price do not have the dollar sign because that sucks to work with What does this do? Oh, this is how I made my oh, this is how I got my top sellers. So by grouping this is all Jason. No, this is right. Something else. Just data technically python, I guess. Yeah. So by orders group by item name, quantity, some sort values and largest for This gives us the top four sellers revenue. We take those multiple yeah, item price. Um, here we get the revenue back. Made a church, right? Most popular items. So they ordered the most chicken balls. Oh no, Okay. All the orders, the dollars. Yeah, Yeah. All the orders right. They could have gotten into that too. What's that? Mm And this is the sleep step. How many days? They didn't have sleep. How long action time, Once. Oh yeah. Funny. Today I was learning how to make these Yes to go. Yeah, this was just number crunching. But the cool thing about this was working with sequel name, some number crunching and its sequel. That was cool. Oh, that's yeah. So something like this right side of this car database right to find Like, so if I want the unique cars and something like that, I can figure out average mileage from this whole list of cars each for each manufacturer. Right? So this came cool security, How they do. So who's got the most or the best average was Hyundai what? That's not, that's alphabetical. So this, this actually returns the max. All right. Wow. This is the Chipotle. There's scared shitless. You must be like getting a lot of these classes, Huh? Yeah. I mean, I think the fact that I was lot of results. That's cool. Think the fact that I came up with this idea. Uh, job. Yeah. Anyway, so now I'm going to see how well amazon picked all that up. You're recording yourself. Right? Print all this. Um, yeah, I didn't know the Baltimore Ravens were named after. Oh yeah, the girl and Pope. I didn't know that because that's where he's from. He was born there and he died. Didn't, you know, he was like, guess. Okay. So did you know which military school\""
   ]
  },
  {
   "cell_type": "code",
   "execution_count": 15,
   "id": "dbfbb9d0",
   "metadata": {},
   "outputs": [],
   "source": [
    "string2 = string2.split()"
   ]
  },
  {
   "cell_type": "code",
   "execution_count": 16,
   "id": "df7da25f",
   "metadata": {},
   "outputs": [
    {
     "data": {
      "text/plain": [
       "2266"
      ]
     },
     "execution_count": 16,
     "metadata": {},
     "output_type": "execute_result"
    }
   ],
   "source": [
    "len(string2)"
   ]
  },
  {
   "cell_type": "code",
   "execution_count": 17,
   "id": "ad6b3d90",
   "metadata": {},
   "outputs": [
    {
     "data": {
      "text/plain": [
       "list"
      ]
     },
     "execution_count": 17,
     "metadata": {},
     "output_type": "execute_result"
    }
   ],
   "source": [
    "type(string2)"
   ]
  },
  {
   "cell_type": "code",
   "execution_count": 18,
   "id": "9d2cdba6",
   "metadata": {},
   "outputs": [],
   "source": [
    "df2 = pd.DataFrame(string2)"
   ]
  },
  {
   "cell_type": "code",
   "execution_count": 19,
   "id": "9be8c7b2",
   "metadata": {},
   "outputs": [],
   "source": [
    "df2.rename(columns={0:'words'}, inplace=True )"
   ]
  },
  {
   "cell_type": "code",
   "execution_count": 20,
   "id": "2d48a5b1",
   "metadata": {},
   "outputs": [
    {
     "data": {
      "text/html": [
       "<div>\n",
       "<style scoped>\n",
       "    .dataframe tbody tr th:only-of-type {\n",
       "        vertical-align: middle;\n",
       "    }\n",
       "\n",
       "    .dataframe tbody tr th {\n",
       "        vertical-align: top;\n",
       "    }\n",
       "\n",
       "    .dataframe thead th {\n",
       "        text-align: right;\n",
       "    }\n",
       "</style>\n",
       "<table border=\"1\" class=\"dataframe\">\n",
       "  <thead>\n",
       "    <tr style=\"text-align: right;\">\n",
       "      <th></th>\n",
       "      <th>words</th>\n",
       "    </tr>\n",
       "  </thead>\n",
       "  <tbody>\n",
       "    <tr>\n",
       "      <th>0</th>\n",
       "      <td>this</td>\n",
       "    </tr>\n",
       "    <tr>\n",
       "      <th>1</th>\n",
       "      <td>week</td>\n",
       "    </tr>\n",
       "    <tr>\n",
       "      <th>2</th>\n",
       "      <td>on</td>\n",
       "    </tr>\n",
       "    <tr>\n",
       "      <th>3</th>\n",
       "      <td>the</td>\n",
       "    </tr>\n",
       "    <tr>\n",
       "      <th>4</th>\n",
       "      <td>season</td>\n",
       "    </tr>\n",
       "    <tr>\n",
       "      <th>...</th>\n",
       "      <td>...</td>\n",
       "    </tr>\n",
       "    <tr>\n",
       "      <th>2261</th>\n",
       "      <td>you</td>\n",
       "    </tr>\n",
       "    <tr>\n",
       "      <th>2262</th>\n",
       "      <td>know</td>\n",
       "    </tr>\n",
       "    <tr>\n",
       "      <th>2263</th>\n",
       "      <td>which</td>\n",
       "    </tr>\n",
       "    <tr>\n",
       "      <th>2264</th>\n",
       "      <td>military</td>\n",
       "    </tr>\n",
       "    <tr>\n",
       "      <th>2265</th>\n",
       "      <td>school</td>\n",
       "    </tr>\n",
       "  </tbody>\n",
       "</table>\n",
       "<p>2266 rows × 1 columns</p>\n",
       "</div>"
      ],
      "text/plain": [
       "         words\n",
       "0         this\n",
       "1         week\n",
       "2           on\n",
       "3          the\n",
       "4       season\n",
       "...        ...\n",
       "2261       you\n",
       "2262      know\n",
       "2263     which\n",
       "2264  military\n",
       "2265    school\n",
       "\n",
       "[2266 rows x 1 columns]"
      ]
     },
     "execution_count": 20,
     "metadata": {},
     "output_type": "execute_result"
    }
   ],
   "source": [
    "df2"
   ]
  },
  {
   "cell_type": "code",
   "execution_count": 21,
   "id": "8786ecc3",
   "metadata": {},
   "outputs": [],
   "source": [
    "df2['words'] = df2['words'].str.replace('.,','',regex = True)"
   ]
  },
  {
   "cell_type": "code",
   "execution_count": 30,
   "id": "dc0cf447",
   "metadata": {},
   "outputs": [
    {
     "data": {
      "text/plain": [
       "words\n",
       "the      71\n",
       "a        49\n",
       "is       49\n",
       "this     48\n",
       "to       48\n",
       "I        46\n",
       "So       39\n",
       "was      38\n",
       "of       37\n",
       "and      29\n",
       "you      26\n",
       "that     24\n",
       "in       23\n",
       "so       20\n",
       "it       20\n",
       "his      20\n",
       "with     18\n",
       "This     17\n",
       "just     16\n",
       "what     14\n",
       "dtype: int64"
      ]
     },
     "execution_count": 30,
     "metadata": {},
     "output_type": "execute_result"
    }
   ],
   "source": [
    "df2.value_counts().nlargest(20)"
   ]
  },
  {
   "cell_type": "code",
   "execution_count": 23,
   "id": "60dabcca",
   "metadata": {},
   "outputs": [],
   "source": [
    "text = '你好好久不見我今天很好'"
   ]
  },
  {
   "cell_type": "code",
   "execution_count": 24,
   "id": "1c1601aa",
   "metadata": {},
   "outputs": [],
   "source": [
    "text = [text]"
   ]
  },
  {
   "cell_type": "code",
   "execution_count": 25,
   "id": "5797baba",
   "metadata": {},
   "outputs": [
    {
     "data": {
      "text/plain": [
       "['你好好久不見我今天很好']"
      ]
     },
     "execution_count": 25,
     "metadata": {},
     "output_type": "execute_result"
    }
   ],
   "source": [
    "text"
   ]
  },
  {
   "cell_type": "code",
   "execution_count": 26,
   "id": "617c9ff7",
   "metadata": {},
   "outputs": [],
   "source": [
    "def find_hao(text):\n",
    "    for char in text:\n",
    "        good = \"\"\n",
    "        for c in char:\n",
    "            if c == \"好\":\n",
    "                good += c\n",
    "        return good"
   ]
  },
  {
   "cell_type": "code",
   "execution_count": 27,
   "id": "f641463a",
   "metadata": {},
   "outputs": [
    {
     "data": {
      "text/plain": [
       "'好好好'"
      ]
     },
     "execution_count": 27,
     "metadata": {},
     "output_type": "execute_result"
    }
   ],
   "source": [
    "find_hao(text)"
   ]
  },
  {
   "cell_type": "code",
   "execution_count": 28,
   "id": "2937dbdf",
   "metadata": {},
   "outputs": [],
   "source": [
    "# hao hao hao ^"
   ]
  }
 ],
 "metadata": {
  "kernelspec": {
   "display_name": "Python 3",
   "language": "python",
   "name": "python3"
  },
  "language_info": {
   "codemirror_mode": {
    "name": "ipython",
    "version": 3
   },
   "file_extension": ".py",
   "mimetype": "text/x-python",
   "name": "python",
   "nbconvert_exporter": "python",
   "pygments_lexer": "ipython3",
   "version": "3.8.8"
  }
 },
 "nbformat": 4,
 "nbformat_minor": 5
}
